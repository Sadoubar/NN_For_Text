{
  "nbformat": 4,
  "nbformat_minor": 0,
  "metadata": {
    "colab": {
      "provenance": [],
      "gpuType": "T4"
    },
    "kernelspec": {
      "name": "python3",
      "display_name": "Python 3"
    },
    "language_info": {
      "name": "python"
    },
    "accelerator": "GPU"
  },
  "cells": [
    {
      "cell_type": "code",
      "execution_count": 1,
      "metadata": {
        "id": "t6nc9qzHQTQy"
      },
      "outputs": [],
      "source": [
        "import tensorflow as tf\n",
        "from tensorflow.keras.preprocessing.text import Tokenizer\n",
        "from tensorflow.keras.preprocessing.sequence import pad_sequences\n",
        "import numpy as np"
      ]
    },
    {
      "cell_type": "markdown",
      "source": [
        "## Building the Word Vocabulary"
      ],
      "metadata": {
        "id": "yI7j0tv2dAQs"
      }
    },
    {
      "cell_type": "code",
      "source": [
        "data=\"Dans la ville d'Athy, un certain Jeremy Lanigan \\n A travaillé jusqu'à ce qu'il n'ait plus une livre. \\nSon père est mort et l'a fait redevenir un homme \\n Lui laissant une ferme et dix acres de terre. \\nIl a donné une grande fête pour ses amis et ses proches \\n Qui ne l'ont pas oublié quand il est arrivé au mur, \\nEt si vous écoutez bien, je ferai briller vos yeux \\n Des rangées et des émeutes du Bal de Lanigan. \\nMoi-même, bien sûr, j'ai reçu une invitation gratuite, \\nPour toutes les jolies filles et tous les garçons que je pourrais inviter, \\nEt en un instant, amis et proches \\nDansaient joyeusement autour d'un fût. \\nJudy O'Daly, cette gentille petite modiste, \\nElle m'a fait un clin d'œil pour lui rendre visite, \\nEt je suis vite arrivé avec Peggy McGilligan \\nJuste à temps pour le Bal de Lanigan. \\nIl y avait des lichettes de ponch et de vin pour les dames, \\nPommes de terre et gâteaux ; il y avait du bacon et du thé, \\nIl y avait les Nolans, les Dolans, les O'Gradys \\nCourtisant les filles et dansant joyeusement. \\nLes chansons tournaient en rond comme l'eau, \\nLa harpe qui autrefois résonnait dans la vieille salle de Tara, \\nLa douce Nelly Gray et La Fille du Piégeur de Rats, \\nToutes ensemble à chanter au Bal de Lanigan. \\nIls faisaient toutes sortes de polkas absurdes \\nDans toute la salle en tourbillon. \\nJulia et moi, nous avons chassé leurs bêtises \\nEt leur avons donné le tour d'une gigue et d'une danse. \\nAh, mon Dieu, comment les filles sont devenues folles de moi \\nOnt dansé jusqu'à ce que vous pensiez que le plafond allait tomber. \\nCar j'ai passé trois semaines à l'Académie Brooks \\nÀ apprendre de nouveaux pas pour le Bal de Lanigan. \\nTrois longues semaines passées à Dublin, \\nTrois longues semaines à ne rien apprendre du tout, \\nTrois longues semaines passées à Dublin, \\nÀ apprendre de nouveaux pas pour le Bal de Lanigan. \\nElle est sortie et je suis rentré à nouveau, \\nJe suis sorti et elle est rentrée à nouveau, \\nElle est sortie et je suis rentré à nouveau, \\nApprenant de nouveaux pas pour le Bal de Lanigan. \\nLes garçons étaient tous joyeux et les filles elles étaient en forme \\nEt dansaient toutes en couples et en groupes, \\nJusqu'à ce qu'un accident arrive, le jeune Terrance McCarthy \\nMette sa jambe droite à travers les cerceaux de miss Finnerty. \\nPauvre créature évanouie et criant Meelia murther, \\nAppela ses frères et les rassembla tous. \\nCarmody jura qu'il n'irait pas plus loin \\nJusqu'à ce qu'il ait satisfaction au Bal de Lanigan. \\nAu milieu de la bagarre, miss Kerrigan s'évanouit, \\nSes joues en même temps rouges comme une rose. \\nCertains des gars ont déclaré qu'elle était maquillée, \\nElle avait pris un petit verre de trop, je suppose. \\nSon fiancé, Ned Morgan, si puissant et capable, \\nQuand il vit sa belle amie étendue contre le mur, \\nArracha la jambe gauche de sous la table \\nEt brisa tous les Chaneys au Bal de Lanigan. \\nLes garçons, oh les garçons, c'est là qu'il y a eu des rixes. \\nMoi-même, j'ai reçu un coup de Phelim McHugh. \\nJ'ai vite répondu à son introduction \\nEt j'ai déclenché un terrible vacarme. \\nLe vieux Casey, le joueur de cornemuse, a failli être étranglé. \\nIls lui ont serré les tuyaux, soufflets, chalumeaux et tout. \\nLes filles, dans leurs rubans, elles se sont toutes emmêlées \\nEt cela a mis fin au Bal de Lanigan.\""
      ],
      "metadata": {
        "id": "TjtgAwLWQzpW"
      },
      "execution_count": 2,
      "outputs": []
    },
    {
      "cell_type": "code",
      "source": [
        "corpus = data.lower().split(\"\\n\")\n",
        "print(corpus)"
      ],
      "metadata": {
        "colab": {
          "base_uri": "https://localhost:8080/"
        },
        "id": "SWOSn3WVQ_PN",
        "outputId": "f4f27ce2-62f7-4a12-8958-9b08a2d0bdc0"
      },
      "execution_count": 3,
      "outputs": [
        {
          "output_type": "stream",
          "name": "stdout",
          "text": [
            "[\"dans la ville d'athy, un certain jeremy lanigan \", \" a travaillé jusqu'à ce qu'il n'ait plus une livre. \", \"son père est mort et l'a fait redevenir un homme \", ' lui laissant une ferme et dix acres de terre. ', 'il a donné une grande fête pour ses amis et ses proches ', \" qui ne l'ont pas oublié quand il est arrivé au mur, \", 'et si vous écoutez bien, je ferai briller vos yeux ', ' des rangées et des émeutes du bal de lanigan. ', \"moi-même, bien sûr, j'ai reçu une invitation gratuite, \", 'pour toutes les jolies filles et tous les garçons que je pourrais inviter, ', 'et en un instant, amis et proches ', \"dansaient joyeusement autour d'un fût. \", \"judy o'daly, cette gentille petite modiste, \", \"elle m'a fait un clin d'œil pour lui rendre visite, \", 'et je suis vite arrivé avec peggy mcgilligan ', 'juste à temps pour le bal de lanigan. ', 'il y avait des lichettes de ponch et de vin pour les dames, ', 'pommes de terre et gâteaux ; il y avait du bacon et du thé, ', \"il y avait les nolans, les dolans, les o'gradys \", 'courtisant les filles et dansant joyeusement. ', \"les chansons tournaient en rond comme l'eau, \", 'la harpe qui autrefois résonnait dans la vieille salle de tara, ', 'la douce nelly gray et la fille du piégeur de rats, ', 'toutes ensemble à chanter au bal de lanigan. ', 'ils faisaient toutes sortes de polkas absurdes ', 'dans toute la salle en tourbillon. ', 'julia et moi, nous avons chassé leurs bêtises ', \"et leur avons donné le tour d'une gigue et d'une danse. \", 'ah, mon dieu, comment les filles sont devenues folles de moi ', \"ont dansé jusqu'à ce que vous pensiez que le plafond allait tomber. \", \"car j'ai passé trois semaines à l'académie brooks \", 'à apprendre de nouveaux pas pour le bal de lanigan. ', 'trois longues semaines passées à dublin, ', 'trois longues semaines à ne rien apprendre du tout, ', 'trois longues semaines passées à dublin, ', 'à apprendre de nouveaux pas pour le bal de lanigan. ', 'elle est sortie et je suis rentré à nouveau, ', 'je suis sorti et elle est rentrée à nouveau, ', 'elle est sortie et je suis rentré à nouveau, ', 'apprenant de nouveaux pas pour le bal de lanigan. ', 'les garçons étaient tous joyeux et les filles elles étaient en forme ', 'et dansaient toutes en couples et en groupes, ', \"jusqu'à ce qu'un accident arrive, le jeune terrance mccarthy \", 'mette sa jambe droite à travers les cerceaux de miss finnerty. ', 'pauvre créature évanouie et criant meelia murther, ', 'appela ses frères et les rassembla tous. ', \"carmody jura qu'il n'irait pas plus loin \", \"jusqu'à ce qu'il ait satisfaction au bal de lanigan. \", \"au milieu de la bagarre, miss kerrigan s'évanouit, \", 'ses joues en même temps rouges comme une rose. ', \"certains des gars ont déclaré qu'elle était maquillée, \", 'elle avait pris un petit verre de trop, je suppose. ', 'son fiancé, ned morgan, si puissant et capable, ', 'quand il vit sa belle amie étendue contre le mur, ', 'arracha la jambe gauche de sous la table ', 'et brisa tous les chaneys au bal de lanigan. ', \"les garçons, oh les garçons, c'est là qu'il y a eu des rixes. \", \"moi-même, j'ai reçu un coup de phelim mchugh. \", \"j'ai vite répondu à son introduction \", \"et j'ai déclenché un terrible vacarme. \", 'le vieux casey, le joueur de cornemuse, a failli être étranglé. ', 'ils lui ont serré les tuyaux, soufflets, chalumeaux et tout. ', 'les filles, dans leurs rubans, elles se sont toutes emmêlées ', 'et cela a mis fin au bal de lanigan.']\n"
          ]
        }
      ]
    },
    {
      "cell_type": "code",
      "source": [
        "#configurer le tokenizer pour qu'il prenne en compte les caractères spéciaux comme faisant partie d'un mot(francais)\n",
        "tokenizer = Tokenizer(filters='')\n",
        "tokenizer.fit_on_texts(corpus)\n",
        "total_words = len(tokenizer.word_index)+1\n",
        "print(f\"word index dictionary: {tokenizer.word_index}\")\n",
        "print(f\"total words: {total_words}\")"
      ],
      "metadata": {
        "colab": {
          "base_uri": "https://localhost:8080/"
        },
        "id": "vonfaqljRCkb",
        "outputId": "a00eb506-e6e1-48cd-e672-af87bb0e92f9"
      },
      "execution_count": 4,
      "outputs": [
        {
          "output_type": "stream",
          "name": "stdout",
          "text": [
            "word index dictionary: {'et': 1, 'de': 2, 'les': 3, 'à': 4, 'le': 5, 'la': 6, 'bal': 7, 'lanigan.': 8, 'pour': 9, 'un': 10, 'je': 11, 'en': 12, 'il': 13, 'au': 14, 'a': 15, 'une': 16, 'est': 17, 'pas': 18, 'des': 19, 'du': 20, \"j'ai\": 21, 'toutes': 22, 'elle': 23, 'dans': 24, \"jusqu'à\": 25, 'ce': 26, \"qu'il\": 27, 'ses': 28, 'filles': 29, 'suis': 30, 'y': 31, 'avait': 32, 'trois': 33, 'semaines': 34, 'son': 35, 'lui': 36, 'tous': 37, 'que': 38, 'ont': 39, 'apprendre': 40, 'nouveaux': 41, 'longues': 42, 'nouveau,': 43, 'plus': 44, 'fait': 45, 'donné': 46, 'amis': 47, 'proches': 48, 'qui': 49, 'ne': 50, 'quand': 51, 'arrivé': 52, 'mur,': 53, 'si': 54, 'vous': 55, 'moi-même,': 56, 'reçu': 57, 'garçons': 58, 'dansaient': 59, 'vite': 60, 'temps': 61, 'comme': 62, 'salle': 63, 'ils': 64, 'avons': 65, 'leurs': 66, \"d'une\": 67, 'sont': 68, 'passées': 69, 'dublin,': 70, 'sortie': 71, 'rentré': 72, 'étaient': 73, 'elles': 74, 'sa': 75, 'jambe': 76, 'miss': 77, 'garçons,': 78, 'ville': 79, \"d'athy,\": 80, 'certain': 81, 'jeremy': 82, 'lanigan': 83, 'travaillé': 84, \"n'ait\": 85, 'livre.': 86, 'père': 87, 'mort': 88, \"l'a\": 89, 'redevenir': 90, 'homme': 91, 'laissant': 92, 'ferme': 93, 'dix': 94, 'acres': 95, 'terre.': 96, 'grande': 97, 'fête': 98, \"l'ont\": 99, 'oublié': 100, 'écoutez': 101, 'bien,': 102, 'ferai': 103, 'briller': 104, 'vos': 105, 'yeux': 106, 'rangées': 107, 'émeutes': 108, 'bien': 109, 'sûr,': 110, 'invitation': 111, 'gratuite,': 112, 'jolies': 113, 'pourrais': 114, 'inviter,': 115, 'instant,': 116, 'joyeusement': 117, 'autour': 118, \"d'un\": 119, 'fût.': 120, 'judy': 121, \"o'daly,\": 122, 'cette': 123, 'gentille': 124, 'petite': 125, 'modiste,': 126, \"m'a\": 127, 'clin': 128, \"d'œil\": 129, 'rendre': 130, 'visite,': 131, 'avec': 132, 'peggy': 133, 'mcgilligan': 134, 'juste': 135, 'lichettes': 136, 'ponch': 137, 'vin': 138, 'dames,': 139, 'pommes': 140, 'terre': 141, 'gâteaux': 142, ';': 143, 'bacon': 144, 'thé,': 145, 'nolans,': 146, 'dolans,': 147, \"o'gradys\": 148, 'courtisant': 149, 'dansant': 150, 'joyeusement.': 151, 'chansons': 152, 'tournaient': 153, 'rond': 154, \"l'eau,\": 155, 'harpe': 156, 'autrefois': 157, 'résonnait': 158, 'vieille': 159, 'tara,': 160, 'douce': 161, 'nelly': 162, 'gray': 163, 'fille': 164, 'piégeur': 165, 'rats,': 166, 'ensemble': 167, 'chanter': 168, 'faisaient': 169, 'sortes': 170, 'polkas': 171, 'absurdes': 172, 'toute': 173, 'tourbillon.': 174, 'julia': 175, 'moi,': 176, 'nous': 177, 'chassé': 178, 'bêtises': 179, 'leur': 180, 'tour': 181, 'gigue': 182, 'danse.': 183, 'ah,': 184, 'mon': 185, 'dieu,': 186, 'comment': 187, 'devenues': 188, 'folles': 189, 'moi': 190, 'dansé': 191, 'pensiez': 192, 'plafond': 193, 'allait': 194, 'tomber.': 195, 'car': 196, 'passé': 197, \"l'académie\": 198, 'brooks': 199, 'rien': 200, 'tout,': 201, 'sorti': 202, 'rentrée': 203, 'apprenant': 204, 'joyeux': 205, 'forme': 206, 'couples': 207, 'groupes,': 208, \"qu'un\": 209, 'accident': 210, 'arrive,': 211, 'jeune': 212, 'terrance': 213, 'mccarthy': 214, 'mette': 215, 'droite': 216, 'travers': 217, 'cerceaux': 218, 'finnerty.': 219, 'pauvre': 220, 'créature': 221, 'évanouie': 222, 'criant': 223, 'meelia': 224, 'murther,': 225, 'appela': 226, 'frères': 227, 'rassembla': 228, 'tous.': 229, 'carmody': 230, 'jura': 231, \"n'irait\": 232, 'loin': 233, 'ait': 234, 'satisfaction': 235, 'milieu': 236, 'bagarre,': 237, 'kerrigan': 238, \"s'évanouit,\": 239, 'joues': 240, 'même': 241, 'rouges': 242, 'rose.': 243, 'certains': 244, 'gars': 245, 'déclaré': 246, \"qu'elle\": 247, 'était': 248, 'maquillée,': 249, 'pris': 250, 'petit': 251, 'verre': 252, 'trop,': 253, 'suppose.': 254, 'fiancé,': 255, 'ned': 256, 'morgan,': 257, 'puissant': 258, 'capable,': 259, 'vit': 260, 'belle': 261, 'amie': 262, 'étendue': 263, 'contre': 264, 'arracha': 265, 'gauche': 266, 'sous': 267, 'table': 268, 'brisa': 269, 'chaneys': 270, 'oh': 271, \"c'est\": 272, 'là': 273, 'eu': 274, 'rixes.': 275, 'coup': 276, 'phelim': 277, 'mchugh.': 278, 'répondu': 279, 'introduction': 280, 'déclenché': 281, 'terrible': 282, 'vacarme.': 283, 'vieux': 284, 'casey,': 285, 'joueur': 286, 'cornemuse,': 287, 'failli': 288, 'être': 289, 'étranglé.': 290, 'serré': 291, 'tuyaux,': 292, 'soufflets,': 293, 'chalumeaux': 294, 'tout.': 295, 'filles,': 296, 'rubans,': 297, 'se': 298, 'emmêlées': 299, 'cela': 300, 'mis': 301, 'fin': 302}\n",
            "total words: 303\n"
          ]
        }
      ]
    },
    {
      "cell_type": "markdown",
      "source": [
        "## Preprocessing the Dataset"
      ],
      "metadata": {
        "id": "XMi0mRUUdLqW"
      }
    },
    {
      "cell_type": "code",
      "source": [
        "input_sequences = []\n",
        "for line in corpus:\n",
        "  # tokenize the currrent line\n",
        "  token_list = tokenizer.texts_to_sequences([line])[0]\n",
        "  # loop over the line in several times to generate subphrases\n",
        "  for i in range(1,len(token_list)):\n",
        "    # generate the subphrase\n",
        "    n_gram_sequence = token_list[:i+1]\n",
        "    input_sequences.append(n_gram_sequence)\n",
        "# Get the length of the longest line\n",
        "max_len_sequence = max([len(x) for x in input_sequences])\n",
        "#pad_all_sequence\n",
        "input_sequence_padded = np.array(pad_sequences(input_sequences,maxlen=max_len_sequence,padding=\"pre\"))\n"
      ],
      "metadata": {
        "id": "cLnU3dfKWAdn"
      },
      "execution_count": 5,
      "outputs": []
    },
    {
      "cell_type": "code",
      "source": [
        "print(input_sequences[:7])\n",
        "print(\"\\n\")\n",
        "print(input_sequence_padded[:7])"
      ],
      "metadata": {
        "colab": {
          "base_uri": "https://localhost:8080/"
        },
        "id": "Qn8Yx_WqW61x",
        "outputId": "38348f03-b806-4112-e7fe-c89bef08ec7d"
      },
      "execution_count": 6,
      "outputs": [
        {
          "output_type": "stream",
          "name": "stdout",
          "text": [
            "[[24, 6], [24, 6, 79], [24, 6, 79, 80], [24, 6, 79, 80, 10], [24, 6, 79, 80, 10, 81], [24, 6, 79, 80, 10, 81, 82], [24, 6, 79, 80, 10, 81, 82, 83]]\n",
            "\n",
            "\n",
            "[[ 0  0  0  0  0  0  0  0  0  0  0  0 24  6]\n",
            " [ 0  0  0  0  0  0  0  0  0  0  0 24  6 79]\n",
            " [ 0  0  0  0  0  0  0  0  0  0 24  6 79 80]\n",
            " [ 0  0  0  0  0  0  0  0  0 24  6 79 80 10]\n",
            " [ 0  0  0  0  0  0  0  0 24  6 79 80 10 81]\n",
            " [ 0  0  0  0  0  0  0 24  6 79 80 10 81 82]\n",
            " [ 0  0  0  0  0  0 24  6 79 80 10 81 82 83]]\n"
          ]
        }
      ]
    },
    {
      "cell_type": "code",
      "source": [
        "xs,labels = input_sequence_padded[:,:-1], input_sequence_padded[:,-1]\n",
        "ys = tf.keras.utils.to_categorical(labels,num_classes=total_words)"
      ],
      "metadata": {
        "id": "f-4PiXO8eVGX"
      },
      "execution_count": 7,
      "outputs": []
    },
    {
      "cell_type": "code",
      "source": [
        "# Get sample sentence\n",
        "sentence = corpus[0].split()\n",
        "print(f'sample sentence: {sentence}')\n",
        "\n",
        "# Initialize token list\n",
        "token_list = []\n",
        "\n",
        "# Look up the indices of each word and append to the list\n",
        "for word in sentence:\n",
        "  token_list.append(tokenizer.word_index[word])\n",
        "\n",
        "# Print the token list\n",
        "print(token_list)\n"
      ],
      "metadata": {
        "colab": {
          "base_uri": "https://localhost:8080/"
        },
        "id": "ioFXjYWUhDSx",
        "outputId": "e1e297cf-8fe6-4897-d744-a6bd20ecea7f"
      },
      "execution_count": 8,
      "outputs": [
        {
          "output_type": "stream",
          "name": "stdout",
          "text": [
            "sample sentence: ['dans', 'la', 'ville', \"d'athy,\", 'un', 'certain', 'jeremy', 'lanigan']\n",
            "[24, 6, 79, 80, 10, 81, 82, 83]\n"
          ]
        }
      ]
    },
    {
      "cell_type": "code",
      "source": [
        "# Pick element\n",
        "elem_number = 6\n",
        "\n",
        "# Print token list and phrase\n",
        "print(f'token list: {xs[elem_number]}')\n",
        "print(f'decoded to text: {tokenizer.sequences_to_texts([xs[elem_number]])}')"
      ],
      "metadata": {
        "colab": {
          "base_uri": "https://localhost:8080/"
        },
        "id": "IuUWuvCShEqc",
        "outputId": "cf66b648-3971-4c5b-d511-6711ad3d8fe7"
      },
      "execution_count": 9,
      "outputs": [
        {
          "output_type": "stream",
          "name": "stdout",
          "text": [
            "token list: [ 0  0  0  0  0  0 24  6 79 80 10 81 82]\n",
            "decoded to text: [\"dans la ville d'athy, un certain jeremy\"]\n"
          ]
        }
      ]
    },
    {
      "cell_type": "code",
      "source": [
        "# Print label\n",
        "print(f'one-hot label: {ys[elem_number]}')\n",
        "print(f'index of label: {np.argmax(ys[elem_number])}')"
      ],
      "metadata": {
        "colab": {
          "base_uri": "https://localhost:8080/"
        },
        "id": "JbPF7NUnhw6s",
        "outputId": "acbdabba-95c5-4871-d330-4e786cfdef94"
      },
      "execution_count": 10,
      "outputs": [
        {
          "output_type": "stream",
          "name": "stdout",
          "text": [
            "one-hot label: [0. 0. 0. 0. 0. 0. 0. 0. 0. 0. 0. 0. 0. 0. 0. 0. 0. 0. 0. 0. 0. 0. 0. 0.\n",
            " 0. 0. 0. 0. 0. 0. 0. 0. 0. 0. 0. 0. 0. 0. 0. 0. 0. 0. 0. 0. 0. 0. 0. 0.\n",
            " 0. 0. 0. 0. 0. 0. 0. 0. 0. 0. 0. 0. 0. 0. 0. 0. 0. 0. 0. 0. 0. 0. 0. 0.\n",
            " 0. 0. 0. 0. 0. 0. 0. 0. 0. 0. 0. 1. 0. 0. 0. 0. 0. 0. 0. 0. 0. 0. 0. 0.\n",
            " 0. 0. 0. 0. 0. 0. 0. 0. 0. 0. 0. 0. 0. 0. 0. 0. 0. 0. 0. 0. 0. 0. 0. 0.\n",
            " 0. 0. 0. 0. 0. 0. 0. 0. 0. 0. 0. 0. 0. 0. 0. 0. 0. 0. 0. 0. 0. 0. 0. 0.\n",
            " 0. 0. 0. 0. 0. 0. 0. 0. 0. 0. 0. 0. 0. 0. 0. 0. 0. 0. 0. 0. 0. 0. 0. 0.\n",
            " 0. 0. 0. 0. 0. 0. 0. 0. 0. 0. 0. 0. 0. 0. 0. 0. 0. 0. 0. 0. 0. 0. 0. 0.\n",
            " 0. 0. 0. 0. 0. 0. 0. 0. 0. 0. 0. 0. 0. 0. 0. 0. 0. 0. 0. 0. 0. 0. 0. 0.\n",
            " 0. 0. 0. 0. 0. 0. 0. 0. 0. 0. 0. 0. 0. 0. 0. 0. 0. 0. 0. 0. 0. 0. 0. 0.\n",
            " 0. 0. 0. 0. 0. 0. 0. 0. 0. 0. 0. 0. 0. 0. 0. 0. 0. 0. 0. 0. 0. 0. 0. 0.\n",
            " 0. 0. 0. 0. 0. 0. 0. 0. 0. 0. 0. 0. 0. 0. 0. 0. 0. 0. 0. 0. 0. 0. 0. 0.\n",
            " 0. 0. 0. 0. 0. 0. 0. 0. 0. 0. 0. 0. 0. 0. 0.]\n",
            "index of label: 83\n"
          ]
        }
      ]
    },
    {
      "cell_type": "markdown",
      "source": [
        "## Build the Model"
      ],
      "metadata": {
        "id": "VDoaeiYPknb-"
      }
    },
    {
      "cell_type": "code",
      "source": [
        "model = tf.keras.Sequential([\n",
        "    tf.keras.layers.Embedding(input_dim=total_words,output_dim=128,input_length = max_len_sequence-1),\n",
        "\n",
        "\n",
        "    tf.keras.layers.Bidirectional(tf.keras.layers.GRU(64,return_sequences=True)),\n",
        "    tf.keras.layers.LSTM(64),\n",
        "\n",
        "    tf.keras.layers.Dense(total_words,activation=\"softmax\")]\n",
        ")\n",
        "model.compile(loss='categorical_crossentropy', optimizer='adam', metrics=['accuracy'])\n",
        "\n",
        "# Print the model summary\n",
        "model.summary()"
      ],
      "metadata": {
        "colab": {
          "base_uri": "https://localhost:8080/"
        },
        "id": "pCAnfsbqkohe",
        "outputId": "5f837e33-bf90-4bae-a5cc-8fb8af4e0820"
      },
      "execution_count": 47,
      "outputs": [
        {
          "output_type": "stream",
          "name": "stdout",
          "text": [
            "Model: \"sequential_10\"\n",
            "_________________________________________________________________\n",
            " Layer (type)                Output Shape              Param #   \n",
            "=================================================================\n",
            " embedding_10 (Embedding)    (None, 13, 128)           38784     \n",
            "                                                                 \n",
            " bidirectional_10 (Bidirect  (None, 13, 128)           74496     \n",
            " ional)                                                          \n",
            "                                                                 \n",
            " lstm_9 (LSTM)               (None, 64)                49408     \n",
            "                                                                 \n",
            " dense_10 (Dense)            (None, 303)               19695     \n",
            "                                                                 \n",
            "=================================================================\n",
            "Total params: 182383 (712.43 KB)\n",
            "Trainable params: 182383 (712.43 KB)\n",
            "Non-trainable params: 0 (0.00 Byte)\n",
            "_________________________________________________________________\n"
          ]
        }
      ]
    },
    {
      "cell_type": "code",
      "source": [
        "from keras.callbacks import Callback\n",
        "\n",
        "class PrintEveryNthEpoch(Callback):\n",
        "    def __init__(self, print_every=50):\n",
        "        super(PrintEveryNthEpoch, self).__init__()\n",
        "        self.print_every = print_every\n",
        "\n",
        "    def on_epoch_end(self, epoch, logs=None):\n",
        "        if epoch % self.print_every == 0:\n",
        "            print(f\"Epoch {epoch+1}/{self.params['epochs']}, Loss: {logs['loss']}, Accuracy: {logs['accuracy']}, Val Loss: {logs['val_loss']}, Val Accuracy: {logs['val_accuracy']}\")\n",
        "\n",
        "# Créer un rappel pour afficher les informations d'entraînement et de validation toutes les 50 epochs\n",
        "print_callback = PrintEveryNthEpoch(print_every=50)\n",
        "\n",
        "# Entraîner le modèle avec le rappel personnalisé\n",
        "history = model.fit(xs, ys, epochs=500, batch_size=32, callbacks=[print_callback], verbose=0, validation_split=0.2)\n"
      ],
      "metadata": {
        "colab": {
          "base_uri": "https://localhost:8080/"
        },
        "id": "nwNXX3_zkw1Z",
        "outputId": "a05a634c-4244-49a0-8ef1-01895a3d4983"
      },
      "execution_count": 48,
      "outputs": [
        {
          "output_type": "stream",
          "name": "stdout",
          "text": [
            "Epoch 1/500, Loss: 5.7040696144104, Accuracy: 0.02450980432331562, Val Loss: 5.697203636169434, Val Accuracy: 0.019417475908994675\n",
            "Epoch 51/500, Loss: 2.199678897857666, Accuracy: 0.6274510025978088, Val Loss: 8.046622276306152, Val Accuracy: 0.04854368790984154\n",
            "Epoch 101/500, Loss: 0.8317530751228333, Accuracy: 0.9166666865348816, Val Loss: 9.239578247070312, Val Accuracy: 0.058252427726984024\n",
            "Epoch 151/500, Loss: 0.3610939681529999, Accuracy: 0.9509803652763367, Val Loss: 9.871674537658691, Val Accuracy: 0.058252427726984024\n",
            "Epoch 201/500, Loss: 0.23029115796089172, Accuracy: 0.9632353186607361, Val Loss: 10.350306510925293, Val Accuracy: 0.06796116381883621\n",
            "Epoch 251/500, Loss: 0.12124685943126678, Accuracy: 0.9632353186607361, Val Loss: 10.75296401977539, Val Accuracy: 0.058252427726984024\n",
            "Epoch 301/500, Loss: 0.09492004662752151, Accuracy: 0.968137264251709, Val Loss: 11.021394729614258, Val Accuracy: 0.04854368790984154\n",
            "Epoch 351/500, Loss: 0.0820283442735672, Accuracy: 0.9583333134651184, Val Loss: 11.254611015319824, Val Accuracy: 0.04854368790984154\n",
            "Epoch 401/500, Loss: 0.073741115629673, Accuracy: 0.9656862616539001, Val Loss: 11.43504524230957, Val Accuracy: 0.04854368790984154\n",
            "Epoch 451/500, Loss: 0.06853640079498291, Accuracy: 0.9632353186607361, Val Loss: 11.62032699584961, Val Accuracy: 0.03883495181798935\n"
          ]
        }
      ]
    },
    {
      "cell_type": "code",
      "source": [
        "import matplotlib.pyplot as plt\n",
        "\n",
        "# Plot utility\n",
        "def plot_graphs(history, string):\n",
        "  plt.plot(history.history[string])\n",
        "  plt.xlabel(\"Epochs\")\n",
        "  plt.ylabel(string)\n",
        "  plt.show()\n",
        "\n",
        "# Visualize the accuracy\n",
        "plot_graphs(history, 'accuracy')"
      ],
      "metadata": {
        "colab": {
          "base_uri": "https://localhost:8080/",
          "height": 449
        },
        "id": "hepC_bpAmM30",
        "outputId": "94a2b420-0730-43c5-e616-35541f34e1d2"
      },
      "execution_count": 49,
      "outputs": [
        {
          "output_type": "display_data",
          "data": {
            "text/plain": [
              "<Figure size 640x480 with 1 Axes>"
            ],
            "image/png": "[encoded data removed]"
          },
          "metadata": {}
        }
      ]
    },
    {
      "cell_type": "code",
      "source": [
        "# Define seed text\n",
        "seed_text = \"Laurence part à dublin\"\n",
        "\n",
        "# Define total words to predict\n",
        "next_words = 50\n",
        "\n",
        "# Loop until desired length is reached\n",
        "for _ in range(next_words):\n",
        "\n",
        "\t# Convert the seed text to a token sequence\n",
        "\ttoken_list = tokenizer.texts_to_sequences([seed_text])[0]\n",
        "\n",
        "\t# Pad the sequence\n",
        "\ttoken_list = pad_sequences([token_list], maxlen=max_len_sequence-1, padding='pre')\n",
        "\n",
        "\t# Feed to the model and get the probabilities for each index\n",
        "\tprobabilities = model.predict(token_list)\n",
        "\n",
        "\t# Get the index with the highest probability\n",
        "\tpredicted = np.argmax(probabilities, axis=-1)[0]\n",
        "\n",
        "\t# Ignore if index is 0 because that is just the padding.\n",
        "\tif predicted != 0:\n",
        "\n",
        "\t\t# Look up the word associated with the index.\n",
        "\t\toutput_word = tokenizer.index_word[predicted]\n",
        "\n",
        "\t\t# Combine with the seed text\n",
        "\t\tseed_text += \" \" + output_word\n",
        "\n",
        "# Print the result\n",
        "print(seed_text)"
      ],
      "metadata": {
        "colab": {
          "base_uri": "https://localhost:8080/"
        },
        "id": "CZI7GaCdszt-",
        "outputId": "a0db062f-fde5-4124-f2dd-eea16a423255"
      },
      "execution_count": 50,
      "outputs": [
        {
          "output_type": "stream",
          "name": "stdout",
          "text": [
            "1/1 [==============================] - 1s 965ms/step\n",
            "1/1 [==============================] - 0s 21ms/step\n",
            "1/1 [==============================] - 0s 21ms/step\n",
            "1/1 [==============================] - 0s 21ms/step\n",
            "1/1 [==============================] - 0s 23ms/step\n",
            "1/1 [==============================] - 0s 25ms/step\n",
            "1/1 [==============================] - 0s 22ms/step\n",
            "1/1 [==============================] - 0s 26ms/step\n",
            "1/1 [==============================] - 0s 21ms/step\n",
            "1/1 [==============================] - 0s 21ms/step\n",
            "1/1 [==============================] - 0s 23ms/step\n",
            "1/1 [==============================] - 0s 21ms/step\n",
            "1/1 [==============================] - 0s 21ms/step\n",
            "1/1 [==============================] - 0s 21ms/step\n",
            "1/1 [==============================] - 0s 29ms/step\n",
            "1/1 [==============================] - 0s 23ms/step\n",
            "1/1 [==============================] - 0s 22ms/step\n",
            "1/1 [==============================] - 0s 22ms/step\n",
            "1/1 [==============================] - 0s 23ms/step\n",
            "1/1 [==============================] - 0s 22ms/step\n",
            "1/1 [==============================] - 0s 22ms/step\n",
            "1/1 [==============================] - 0s 23ms/step\n",
            "1/1 [==============================] - 0s 22ms/step\n",
            "1/1 [==============================] - 0s 21ms/step\n",
            "1/1 [==============================] - 0s 22ms/step\n",
            "1/1 [==============================] - 0s 23ms/step\n",
            "1/1 [==============================] - 0s 21ms/step\n",
            "1/1 [==============================] - 0s 26ms/step\n",
            "1/1 [==============================] - 0s 21ms/step\n",
            "1/1 [==============================] - 0s 20ms/step\n",
            "1/1 [==============================] - 0s 23ms/step\n",
            "1/1 [==============================] - 0s 22ms/step\n",
            "1/1 [==============================] - 0s 23ms/step\n",
            "1/1 [==============================] - 0s 20ms/step\n",
            "1/1 [==============================] - 0s 25ms/step\n",
            "1/1 [==============================] - 0s 22ms/step\n",
            "1/1 [==============================] - 0s 36ms/step\n",
            "1/1 [==============================] - 0s 34ms/step\n",
            "1/1 [==============================] - 0s 37ms/step\n",
            "1/1 [==============================] - 0s 35ms/step\n",
            "1/1 [==============================] - 0s 30ms/step\n",
            "1/1 [==============================] - 0s 30ms/step\n",
            "1/1 [==============================] - 0s 29ms/step\n",
            "1/1 [==============================] - 0s 39ms/step\n",
            "1/1 [==============================] - 0s 31ms/step\n",
            "1/1 [==============================] - 0s 30ms/step\n",
            "1/1 [==============================] - 0s 32ms/step\n",
            "1/1 [==============================] - 0s 31ms/step\n",
            "1/1 [==============================] - 0s 31ms/step\n",
            "1/1 [==============================] - 0s 29ms/step\n",
            "Laurence part à dublin apprendre de nouveaux pas pour le bal de lanigan. lanigan. lanigan. lanigan. lanigan. du bacon et du thé, thé, danse. danse. jura finnerty. danse. danse. danse. danse. danse. d'une livre. s'évanouit, s'évanouit, danse. danse. thé, danse. danse. danse. thé, danse. danse. thé, danse. danse. danse. danse. danse. bacon et je\n"
          ]
        }
      ]
    },
    {
      "cell_type": "code",
      "source": [
        "# Define seed text\n",
        "seed_text = \"Laurence part a dublin\"\n",
        "\n",
        "# Define total words to predict\n",
        "next_words = 100\n",
        "\n",
        "# Loop until desired length is reached\n",
        "for _ in range(next_words):\n",
        "\n",
        "\t# Convert the seed text to a token sequence\n",
        "  token_list = tokenizer.texts_to_sequences([seed_text])[0]\n",
        "\n",
        "\t# Pad the sequence\n",
        "  token_list = pad_sequences([token_list], maxlen=max_len_sequence-1, padding='pre')\n",
        "\n",
        "\t# Feed to the model and get the probabilities for each index\n",
        "  probabilities = model.predict(token_list)\n",
        "\n",
        "  # Pick a random number from [1,2,3]\n",
        "  choice = np.random.choice([1,2,3])\n",
        "\n",
        "  # Sort the probabilities in ascending order\n",
        "  # and get the random choice from the end of the array\n",
        "  predicted = np.argsort(probabilities)[0][-choice]\n",
        "\n",
        "\t# Ignore if index is 0 because that is just the padding.\n",
        "  if predicted != 0:\n",
        "\n",
        "\t\t# Look up the word associated with the index.\n",
        "\t  output_word = tokenizer.index_word[predicted]\n",
        "\n",
        "\t\t# Combine with the seed text\n",
        "\t  seed_text += \" \" + output_word\n",
        "\n",
        "# Print the result\n",
        "print(seed_text)"
      ],
      "metadata": {
        "colab": {
          "base_uri": "https://localhost:8080/"
        },
        "id": "ZQaSLC2TtojY",
        "outputId": "9e6999d8-289b-429a-dcc5-a4b4de3d8ef6"
      },
      "execution_count": 51,
      "outputs": [
        {
          "output_type": "stream",
          "name": "stdout",
          "text": [
            "1/1 [==============================] - 0s 20ms/step\n",
            "1/1 [==============================] - 0s 20ms/step\n",
            "1/1 [==============================] - 0s 23ms/step\n",
            "1/1 [==============================] - 0s 21ms/step\n",
            "1/1 [==============================] - 0s 26ms/step\n",
            "1/1 [==============================] - 0s 23ms/step\n",
            "1/1 [==============================] - 0s 21ms/step\n",
            "1/1 [==============================] - 0s 21ms/step\n",
            "1/1 [==============================] - 0s 21ms/step\n",
            "1/1 [==============================] - 0s 21ms/step\n",
            "1/1 [==============================] - 0s 24ms/step\n",
            "1/1 [==============================] - 0s 22ms/step\n",
            "1/1 [==============================] - 0s 24ms/step\n",
            "1/1 [==============================] - 0s 20ms/step\n",
            "1/1 [==============================] - 0s 21ms/step\n",
            "1/1 [==============================] - 0s 20ms/step\n",
            "1/1 [==============================] - 0s 22ms/step\n",
            "1/1 [==============================] - 0s 23ms/step\n",
            "1/1 [==============================] - 0s 22ms/step\n",
            "1/1 [==============================] - 0s 22ms/step\n",
            "1/1 [==============================] - 0s 23ms/step\n",
            "1/1 [==============================] - 0s 22ms/step\n",
            "1/1 [==============================] - 0s 20ms/step\n",
            "1/1 [==============================] - 0s 25ms/step\n",
            "1/1 [==============================] - 0s 22ms/step\n",
            "1/1 [==============================] - 0s 22ms/step\n",
            "1/1 [==============================] - 0s 23ms/step\n",
            "1/1 [==============================] - 0s 21ms/step\n",
            "1/1 [==============================] - 0s 24ms/step\n",
            "1/1 [==============================] - 0s 22ms/step\n",
            "1/1 [==============================] - 0s 21ms/step\n",
            "1/1 [==============================] - 0s 23ms/step\n",
            "1/1 [==============================] - 0s 21ms/step\n",
            "1/1 [==============================] - 0s 28ms/step\n",
            "1/1 [==============================] - 0s 22ms/step\n",
            "1/1 [==============================] - 0s 20ms/step\n",
            "1/1 [==============================] - 0s 19ms/step\n",
            "1/1 [==============================] - 0s 22ms/step\n",
            "1/1 [==============================] - 0s 21ms/step\n",
            "1/1 [==============================] - 0s 21ms/step\n",
            "1/1 [==============================] - 0s 22ms/step\n",
            "1/1 [==============================] - 0s 23ms/step\n",
            "1/1 [==============================] - 0s 21ms/step\n",
            "1/1 [==============================] - 0s 20ms/step\n",
            "1/1 [==============================] - 0s 22ms/step\n",
            "1/1 [==============================] - 0s 20ms/step\n",
            "1/1 [==============================] - 0s 23ms/step\n",
            "1/1 [==============================] - 0s 22ms/step\n",
            "1/1 [==============================] - 0s 23ms/step\n",
            "1/1 [==============================] - 0s 20ms/step\n",
            "1/1 [==============================] - 0s 22ms/step\n",
            "1/1 [==============================] - 0s 21ms/step\n",
            "1/1 [==============================] - 0s 21ms/step\n",
            "1/1 [==============================] - 0s 22ms/step\n",
            "1/1 [==============================] - 0s 23ms/step\n",
            "1/1 [==============================] - 0s 21ms/step\n",
            "1/1 [==============================] - 0s 21ms/step\n",
            "1/1 [==============================] - 0s 26ms/step\n",
            "1/1 [==============================] - 0s 21ms/step\n",
            "1/1 [==============================] - 0s 22ms/step\n",
            "1/1 [==============================] - 0s 25ms/step\n",
            "1/1 [==============================] - 0s 22ms/step\n",
            "1/1 [==============================] - 0s 21ms/step\n",
            "1/1 [==============================] - 0s 22ms/step\n",
            "1/1 [==============================] - 0s 21ms/step\n",
            "1/1 [==============================] - 0s 22ms/step\n",
            "1/1 [==============================] - 0s 22ms/step\n",
            "1/1 [==============================] - 0s 23ms/step\n",
            "1/1 [==============================] - 0s 23ms/step\n",
            "1/1 [==============================] - 0s 21ms/step\n",
            "1/1 [==============================] - 0s 23ms/step\n",
            "1/1 [==============================] - 0s 21ms/step\n",
            "1/1 [==============================] - 0s 21ms/step\n",
            "1/1 [==============================] - 0s 20ms/step\n",
            "1/1 [==============================] - 0s 21ms/step\n",
            "1/1 [==============================] - 0s 35ms/step\n",
            "1/1 [==============================] - 0s 41ms/step\n",
            "1/1 [==============================] - 0s 32ms/step\n",
            "1/1 [==============================] - 0s 35ms/step\n",
            "1/1 [==============================] - 0s 31ms/step\n",
            "1/1 [==============================] - 0s 29ms/step\n",
            "1/1 [==============================] - 0s 33ms/step\n",
            "1/1 [==============================] - 0s 29ms/step\n",
            "1/1 [==============================] - 0s 30ms/step\n",
            "1/1 [==============================] - 0s 30ms/step\n",
            "1/1 [==============================] - 0s 30ms/step\n",
            "1/1 [==============================] - 0s 30ms/step\n",
            "1/1 [==============================] - 0s 33ms/step\n",
            "1/1 [==============================] - 0s 30ms/step\n",
            "1/1 [==============================] - 0s 31ms/step\n",
            "1/1 [==============================] - 0s 31ms/step\n",
            "1/1 [==============================] - 0s 32ms/step\n",
            "1/1 [==============================] - 0s 30ms/step\n",
            "1/1 [==============================] - 0s 31ms/step\n",
            "1/1 [==============================] - 0s 37ms/step\n",
            "1/1 [==============================] - 0s 35ms/step\n",
            "1/1 [==============================] - 0s 32ms/step\n",
            "1/1 [==============================] - 0s 38ms/step\n",
            "1/1 [==============================] - 0s 32ms/step\n",
            "1/1 [==============================] - 0s 22ms/step\n",
            "Laurence part a dublin donné une grande fête plus ; garçons les rose. arrivé comme et arrivé d'une rendre et redevenir toutes les tara, danse. joues finnerty. inviter, tomber. jura thé, tara, danse. jura thé, plafond finnerty. s'évanouit, danse. thé, thé, thé, rose. salle à finnerty. mur, bien déclaré inviter, thé, au miss peggy finnerty. allait tomber. danse. moi danse. moi jura danse. moi chanter jura tous au folles et lanigan. de rose. mur, thé, tomber. thé, danse. danse. danse. jura l'ont ses s'évanouit, folles de lanigan. du thé, danse. thé, miss finnerty. s'évanouit, finnerty. danse. bien fille lui kerrigan finnerty. était maquillée, salle\n"
          ]
        }
      ]
    },
    {
      "cell_type": "code",
      "source": [],
      "metadata": {
        "id": "edriWvQwubim"
      },
      "execution_count": null,
      "outputs": []
    }
  ]
}